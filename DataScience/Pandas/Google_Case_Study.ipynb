{
 "cells": [
  {
   "cell_type": "code",
   "execution_count": 1,
   "metadata": {},
   "outputs": [],
   "source": [
    "import pandas as pd\n",
    "import numpy as np"
   ]
  },
  {
   "cell_type": "code",
   "execution_count": 2,
   "metadata": {},
   "outputs": [],
   "source": [
    "df_raw = pd.read_csv('appstore_games.csv')"
   ]
  },
  {
   "cell_type": "code",
   "execution_count": 3,
   "metadata": {},
   "outputs": [],
   "source": [
    "df = df_raw.copy()"
   ]
  },
  {
   "cell_type": "code",
   "execution_count": 4,
   "metadata": {},
   "outputs": [
    {
     "name": "stdout",
     "output_type": "stream",
     "text": [
      "<class 'pandas.core.frame.DataFrame'>\n",
      "RangeIndex: 17007 entries, 0 to 17006\n",
      "Data columns (total 18 columns):\n",
      " #   Column                        Non-Null Count  Dtype  \n",
      "---  ------                        --------------  -----  \n",
      " 0   URL                           17007 non-null  object \n",
      " 1   ID                            17007 non-null  int64  \n",
      " 2   Name                          17007 non-null  object \n",
      " 3   Subtitle                      5261 non-null   object \n",
      " 4   Icon URL                      17007 non-null  object \n",
      " 5   Average User Rating           7561 non-null   float64\n",
      " 6   User Rating Count             7561 non-null   float64\n",
      " 7   Price                         16983 non-null  float64\n",
      " 8   In-app Purchases              7683 non-null   object \n",
      " 9   Description                   17007 non-null  object \n",
      " 10  Developer                     17007 non-null  object \n",
      " 11  Age Rating                    17007 non-null  object \n",
      " 12  Languages                     16947 non-null  object \n",
      " 13  Size                          17006 non-null  float64\n",
      " 14  Primary Genre                 17007 non-null  object \n",
      " 15  Genres                        17007 non-null  object \n",
      " 16  Original Release Date         17007 non-null  object \n",
      " 17  Current Version Release Date  17007 non-null  object \n",
      "dtypes: float64(4), int64(1), object(13)\n",
      "memory usage: 2.3+ MB\n"
     ]
    }
   ],
   "source": [
    "df.info()"
   ]
  },
  {
   "cell_type": "code",
   "execution_count": 5,
   "metadata": {},
   "outputs": [],
   "source": [
    "df = df.drop(columns=['URL', 'Icon URL', 'Subtitle', 'Description', 'In-app Purchases'])\n"
   ]
  },
  {
   "cell_type": "code",
   "execution_count": 10,
   "metadata": {},
   "outputs": [
    {
     "data": {
      "text/html": [
       "<div>\n",
       "<style scoped>\n",
       "    .dataframe tbody tr th:only-of-type {\n",
       "        vertical-align: middle;\n",
       "    }\n",
       "\n",
       "    .dataframe tbody tr th {\n",
       "        vertical-align: top;\n",
       "    }\n",
       "\n",
       "    .dataframe thead th {\n",
       "        text-align: right;\n",
       "    }\n",
       "</style>\n",
       "<table border=\"1\" class=\"dataframe\">\n",
       "  <thead>\n",
       "    <tr style=\"text-align: right;\">\n",
       "      <th></th>\n",
       "      <th>name</th>\n",
       "      <th>average_user_rating</th>\n",
       "      <th>user_rating_count</th>\n",
       "      <th>price</th>\n",
       "      <th>developer</th>\n",
       "      <th>age_rating</th>\n",
       "      <th>languages</th>\n",
       "      <th>size</th>\n",
       "      <th>primary_genre</th>\n",
       "      <th>genres</th>\n",
       "      <th>original_release_date</th>\n",
       "      <th>current_version_release_date</th>\n",
       "    </tr>\n",
       "    <tr>\n",
       "      <th>ID</th>\n",
       "      <th></th>\n",
       "      <th></th>\n",
       "      <th></th>\n",
       "      <th></th>\n",
       "      <th></th>\n",
       "      <th></th>\n",
       "      <th></th>\n",
       "      <th></th>\n",
       "      <th></th>\n",
       "      <th></th>\n",
       "      <th></th>\n",
       "      <th></th>\n",
       "    </tr>\n",
       "  </thead>\n",
       "  <tbody>\n",
       "    <tr>\n",
       "      <th>284921427</th>\n",
       "      <td>Sudoku</td>\n",
       "      <td>4.0</td>\n",
       "      <td>3553.0</td>\n",
       "      <td>2.99</td>\n",
       "      <td>Mighty Mighty Good Games</td>\n",
       "      <td>4+</td>\n",
       "      <td>DA, NL, EN, FI, FR, DE, IT, JA, KO, NB, PL, PT...</td>\n",
       "      <td>15853568.0</td>\n",
       "      <td>Games</td>\n",
       "      <td>Games, Strategy, Puzzle</td>\n",
       "      <td>11/07/2008</td>\n",
       "      <td>30/05/2017</td>\n",
       "    </tr>\n",
       "    <tr>\n",
       "      <th>284926400</th>\n",
       "      <td>Reversi</td>\n",
       "      <td>3.5</td>\n",
       "      <td>284.0</td>\n",
       "      <td>1.99</td>\n",
       "      <td>Kiss The Machine</td>\n",
       "      <td>4+</td>\n",
       "      <td>EN</td>\n",
       "      <td>12328960.0</td>\n",
       "      <td>Games</td>\n",
       "      <td>Games, Strategy, Board</td>\n",
       "      <td>11/07/2008</td>\n",
       "      <td>17/05/2018</td>\n",
       "    </tr>\n",
       "  </tbody>\n",
       "</table>\n",
       "</div>"
      ],
      "text/plain": [
       "              name  average_user_rating  user_rating_count  price  \\\n",
       "ID                                                                  \n",
       "284921427   Sudoku                  4.0             3553.0   2.99   \n",
       "284926400  Reversi                  3.5              284.0   1.99   \n",
       "\n",
       "                          developer age_rating  \\\n",
       "ID                                               \n",
       "284921427  Mighty Mighty Good Games         4+   \n",
       "284926400          Kiss The Machine         4+   \n",
       "\n",
       "                                                   languages        size  \\\n",
       "ID                                                                         \n",
       "284921427  DA, NL, EN, FI, FR, DE, IT, JA, KO, NB, PL, PT...  15853568.0   \n",
       "284926400                                                 EN  12328960.0   \n",
       "\n",
       "          primary_genre                   genres original_release_date  \\\n",
       "ID                                                                       \n",
       "284921427         Games  Games, Strategy, Puzzle            11/07/2008   \n",
       "284926400         Games   Games, Strategy, Board            11/07/2008   \n",
       "\n",
       "          current_version_release_date  \n",
       "ID                                      \n",
       "284921427                   30/05/2017  \n",
       "284926400                   17/05/2018  "
      ]
     },
     "execution_count": 10,
     "metadata": {},
     "output_type": "execute_result"
    }
   ],
   "source": [
    "df.head(2)"
   ]
  },
  {
   "cell_type": "code",
   "execution_count": 7,
   "metadata": {},
   "outputs": [],
   "source": [
    "df = df.set_index('ID')"
   ]
  },
  {
   "cell_type": "code",
   "execution_count": 8,
   "metadata": {},
   "outputs": [
    {
     "data": {
      "text/html": [
       "<div>\n",
       "<style scoped>\n",
       "    .dataframe tbody tr th:only-of-type {\n",
       "        vertical-align: middle;\n",
       "    }\n",
       "\n",
       "    .dataframe tbody tr th {\n",
       "        vertical-align: top;\n",
       "    }\n",
       "\n",
       "    .dataframe thead th {\n",
       "        text-align: right;\n",
       "    }\n",
       "</style>\n",
       "<table border=\"1\" class=\"dataframe\">\n",
       "  <thead>\n",
       "    <tr style=\"text-align: right;\">\n",
       "      <th></th>\n",
       "      <th>count</th>\n",
       "      <th>unique</th>\n",
       "      <th>top</th>\n",
       "      <th>freq</th>\n",
       "    </tr>\n",
       "  </thead>\n",
       "  <tbody>\n",
       "    <tr>\n",
       "      <th>Name</th>\n",
       "      <td>17007</td>\n",
       "      <td>16847</td>\n",
       "      <td>Additions</td>\n",
       "      <td>2</td>\n",
       "    </tr>\n",
       "    <tr>\n",
       "      <th>Developer</th>\n",
       "      <td>17007</td>\n",
       "      <td>8693</td>\n",
       "      <td>Tapps Tecnologia da Informa\\xe7\\xe3o Ltda.</td>\n",
       "      <td>123</td>\n",
       "    </tr>\n",
       "    <tr>\n",
       "      <th>Age Rating</th>\n",
       "      <td>17007</td>\n",
       "      <td>4</td>\n",
       "      <td>4+</td>\n",
       "      <td>11806</td>\n",
       "    </tr>\n",
       "    <tr>\n",
       "      <th>Languages</th>\n",
       "      <td>16947</td>\n",
       "      <td>990</td>\n",
       "      <td>EN</td>\n",
       "      <td>12467</td>\n",
       "    </tr>\n",
       "    <tr>\n",
       "      <th>Primary Genre</th>\n",
       "      <td>17007</td>\n",
       "      <td>21</td>\n",
       "      <td>Games</td>\n",
       "      <td>16286</td>\n",
       "    </tr>\n",
       "    <tr>\n",
       "      <th>Genres</th>\n",
       "      <td>17007</td>\n",
       "      <td>1004</td>\n",
       "      <td>Games, Strategy, Puzzle</td>\n",
       "      <td>778</td>\n",
       "    </tr>\n",
       "    <tr>\n",
       "      <th>Original Release Date</th>\n",
       "      <td>17007</td>\n",
       "      <td>3084</td>\n",
       "      <td>2/09/2016</td>\n",
       "      <td>75</td>\n",
       "    </tr>\n",
       "    <tr>\n",
       "      <th>Current Version Release Date</th>\n",
       "      <td>17007</td>\n",
       "      <td>2512</td>\n",
       "      <td>1/08/2019</td>\n",
       "      <td>118</td>\n",
       "    </tr>\n",
       "  </tbody>\n",
       "</table>\n",
       "</div>"
      ],
      "text/plain": [
       "                              count unique  \\\n",
       "Name                          17007  16847   \n",
       "Developer                     17007   8693   \n",
       "Age Rating                    17007      4   \n",
       "Languages                     16947    990   \n",
       "Primary Genre                 17007     21   \n",
       "Genres                        17007   1004   \n",
       "Original Release Date         17007   3084   \n",
       "Current Version Release Date  17007   2512   \n",
       "\n",
       "                                                                     top  \\\n",
       "Name                                                           Additions   \n",
       "Developer                     Tapps Tecnologia da Informa\\xe7\\xe3o Ltda.   \n",
       "Age Rating                                                            4+   \n",
       "Languages                                                             EN   \n",
       "Primary Genre                                                      Games   \n",
       "Genres                                           Games, Strategy, Puzzle   \n",
       "Original Release Date                                          2/09/2016   \n",
       "Current Version Release Date                                   1/08/2019   \n",
       "\n",
       "                               freq  \n",
       "Name                              2  \n",
       "Developer                       123  \n",
       "Age Rating                    11806  \n",
       "Languages                     12467  \n",
       "Primary Genre                 16286  \n",
       "Genres                          778  \n",
       "Original Release Date            75  \n",
       "Current Version Release Date    118  "
      ]
     },
     "execution_count": 8,
     "metadata": {},
     "output_type": "execute_result"
    }
   ],
   "source": [
    "df.describe(include=['object']).T"
   ]
  },
  {
   "cell_type": "code",
   "execution_count": 9,
   "metadata": {},
   "outputs": [],
   "source": [
    "df.columns = [col.lower().replace(' ', '_') for col in df.columns]"
   ]
  },
  {
   "cell_type": "code",
   "execution_count": 12,
   "metadata": {},
   "outputs": [
    {
     "data": {
      "text/plain": [
       "Games                16286\n",
       "Education              222\n",
       "Entertainment          198\n",
       "Utilities               77\n",
       "Sports                  60\n",
       "Reference               32\n",
       "Stickers                29\n",
       "Finance                 18\n",
       "Business                16\n",
       "Productivity            15\n",
       "Lifestyle               10\n",
       "Book                     9\n",
       "Social Networking        9\n",
       "News                     7\n",
       "Health & Fitness         5\n",
       "Food & Drink             4\n",
       "Music                    3\n",
       "Navigation               3\n",
       "Medical                  2\n",
       "Travel                   1\n",
       "Shopping                 1\n",
       "Name: primary_genre, dtype: int64"
      ]
     },
     "execution_count": 12,
     "metadata": {},
     "output_type": "execute_result"
    }
   ],
   "source": [
    "df.primary_genre.value_counts()"
   ]
  },
  {
   "cell_type": "code",
   "execution_count": 15,
   "metadata": {},
   "outputs": [
    {
     "data": {
      "text/plain": [
       "['Games', 'Education', 'Entertainment', 'Utilities', 'Sports']"
      ]
     },
     "execution_count": 15,
     "metadata": {},
     "output_type": "execute_result"
    }
   ],
   "source": [
    "list(df.primary_genre.value_counts().nlargest(5).index)"
   ]
  },
  {
   "cell_type": "code",
   "execution_count": 19,
   "metadata": {},
   "outputs": [
    {
     "data": {
      "text/plain": [
       "pandas.core.series.Series"
      ]
     },
     "execution_count": 19,
     "metadata": {},
     "output_type": "execute_result"
    }
   ],
   "source": [
    "type(df.age_rating.value_counts())"
   ]
  },
  {
   "cell_type": "code",
   "execution_count": 26,
   "metadata": {},
   "outputs": [
    {
     "data": {
      "image/png": "[encoded data removed]",
      "text/plain": [
       "<Figure size 640x480 with 1 Axes>"
      ]
     },
     "metadata": {},
     "output_type": "display_data"
    }
   ],
   "source": [
    "import seaborn as sns\n",
    "sns.set()\n",
    "_ = df.age_rating.value_counts().plot(kind='bar')"
   ]
  },
  {
   "cell_type": "code",
   "execution_count": 28,
   "metadata": {},
   "outputs": [
    {
     "data": {
      "text/plain": [
       "0.00      14212\n",
       "0.99       1078\n",
       "1.99        515\n",
       "2.99        471\n",
       "4.99        237\n",
       "3.99        163\n",
       "9.99         88\n",
       "11.99        59\n",
       "5.99         42\n",
       "6.99         32\n",
       "179.99       30\n",
       "7.99         17\n",
       "8.99         13\n",
       "19.99         9\n",
       "14.99         4\n",
       "12.99         3\n",
       "16.99         2\n",
       "29.99         2\n",
       "139.99        1\n",
       "99.99         1\n",
       "37.99         1\n",
       "36.99         1\n",
       "18.99         1\n",
       "59.99         1\n",
       "Name: price, dtype: int64"
      ]
     },
     "execution_count": 28,
     "metadata": {},
     "output_type": "execute_result"
    }
   ],
   "source": [
    "df.price.value_counts()"
   ]
  },
  {
   "cell_type": "code",
   "execution_count": 31,
   "metadata": {},
   "outputs": [
    {
     "data": {
      "text/plain": [
       "<AxesSubplot: >"
      ]
     },
     "execution_count": 31,
     "metadata": {},
     "output_type": "execute_result"
    },
    {
     "data": {
      "image/png": "[encoded data removed]",
      "text/plain": [
       "<Figure size 640x480 with 1 Axes>"
      ]
     },
     "metadata": {},
     "output_type": "display_data"
    }
   ],
   "source": [
    "df.average_user_rating.value_counts().plot(kind='bar')"
   ]
  },
  {
   "cell_type": "code",
   "execution_count": 39,
   "metadata": {},
   "outputs": [
    {
     "data": {
      "text/plain": [
       "ID\n",
       "284921427     17.0\n",
       "284926400      1.0\n",
       "284946595      1.0\n",
       "285755462     17.0\n",
       "285831220     15.0\n",
       "              ... \n",
       "1474626442     1.0\n",
       "1474919257     1.0\n",
       "1474962324     1.0\n",
       "1474963671     1.0\n",
       "1475076711     2.0\n",
       "Name: languages, Length: 17007, dtype: float64"
      ]
     },
     "execution_count": 39,
     "metadata": {},
     "output_type": "execute_result"
    }
   ],
   "source": [
    "df.languages.str.split(', ').str.len()"
   ]
  },
  {
   "cell_type": "code",
   "execution_count": 40,
   "metadata": {},
   "outputs": [],
   "source": [
    "df['num_lang'] = df.languages.str.split(', ').str.len()"
   ]
  },
  {
   "cell_type": "code",
   "execution_count": 42,
   "metadata": {},
   "outputs": [
    {
     "data": {
      "text/plain": [
       "1.0      12566\n",
       "2.0       1102\n",
       "3.0        495\n",
       "16.0       316\n",
       "4.0        261\n",
       "5.0        247\n",
       "6.0        220\n",
       "25.0       171\n",
       "9.0        154\n",
       "11.0       147\n",
       "8.0        142\n",
       "7.0        140\n",
       "10.0       140\n",
       "31.0       133\n",
       "12.0        91\n",
       "21.0        77\n",
       "14.0        64\n",
       "13.0        64\n",
       "15.0        54\n",
       "17.0        37\n",
       "30.0        35\n",
       "19.0        34\n",
       "32.0        34\n",
       "33.0        33\n",
       "22.0        31\n",
       "18.0        24\n",
       "46.0        20\n",
       "26.0        18\n",
       "20.0        14\n",
       "24.0        13\n",
       "23.0        11\n",
       "27.0        11\n",
       "28.0         9\n",
       "29.0         8\n",
       "45.0         6\n",
       "44.0         5\n",
       "65.0         4\n",
       "42.0         3\n",
       "43.0         3\n",
       "36.0         2\n",
       "49.0         2\n",
       "48.0         1\n",
       "66.0         1\n",
       "35.0         1\n",
       "34.0         1\n",
       "111.0        1\n",
       "76.0         1\n",
       "Name: num_lang, dtype: int64"
      ]
     },
     "execution_count": 42,
     "metadata": {},
     "output_type": "execute_result"
    }
   ],
   "source": [
    "df.num_lang.value_counts()"
   ]
  },
  {
   "cell_type": "code",
   "execution_count": 43,
   "metadata": {},
   "outputs": [
    {
     "name": "stdout",
     "output_type": "stream",
     "text": [
      "<class 'pandas.core.frame.DataFrame'>\n",
      "Int64Index: 17007 entries, 284921427 to 1475076711\n",
      "Data columns (total 13 columns):\n",
      " #   Column                        Non-Null Count  Dtype  \n",
      "---  ------                        --------------  -----  \n",
      " 0   name                          17007 non-null  object \n",
      " 1   average_user_rating           7561 non-null   float64\n",
      " 2   user_rating_count             7561 non-null   float64\n",
      " 3   price                         16983 non-null  float64\n",
      " 4   developer                     17007 non-null  object \n",
      " 5   age_rating                    17007 non-null  object \n",
      " 6   languages                     16947 non-null  object \n",
      " 7   size                          17006 non-null  float64\n",
      " 8   primary_genre                 17007 non-null  object \n",
      " 9   genres                        17007 non-null  object \n",
      " 10  original_release_date         17007 non-null  object \n",
      " 11  current_version_release_date  17007 non-null  object \n",
      " 12  num_lang                      16947 non-null  float64\n",
      "dtypes: float64(5), object(8)\n",
      "memory usage: 1.8+ MB\n"
     ]
    }
   ],
   "source": [
    "df.info()"
   ]
  },
  {
   "cell_type": "code",
   "execution_count": 45,
   "metadata": {},
   "outputs": [
    {
     "data": {
      "text/plain": [
       "NaN    9446\n",
       "4.5    2861\n",
       "4.0    1722\n",
       "5.0     990\n",
       "3.5     925\n",
       "3.0     514\n",
       "2.5     317\n",
       "2.0     158\n",
       "1.5      60\n",
       "1.0      14\n",
       "Name: average_user_rating, dtype: int64"
      ]
     },
     "execution_count": 45,
     "metadata": {},
     "output_type": "execute_result"
    }
   ],
   "source": [
    "df.average_user_rating.value_counts(dropna=False)"
   ]
  },
  {
   "cell_type": "code",
   "execution_count": 46,
   "metadata": {},
   "outputs": [
    {
     "data": {
      "text/html": [
       "<div>\n",
       "<style scoped>\n",
       "    .dataframe tbody tr th:only-of-type {\n",
       "        vertical-align: middle;\n",
       "    }\n",
       "\n",
       "    .dataframe tbody tr th {\n",
       "        vertical-align: top;\n",
       "    }\n",
       "\n",
       "    .dataframe thead th {\n",
       "        text-align: right;\n",
       "    }\n",
       "</style>\n",
       "<table border=\"1\" class=\"dataframe\">\n",
       "  <thead>\n",
       "    <tr style=\"text-align: right;\">\n",
       "      <th></th>\n",
       "      <th>name</th>\n",
       "      <th>average_user_rating</th>\n",
       "      <th>user_rating_count</th>\n",
       "      <th>price</th>\n",
       "      <th>developer</th>\n",
       "      <th>age_rating</th>\n",
       "      <th>languages</th>\n",
       "      <th>size</th>\n",
       "      <th>primary_genre</th>\n",
       "      <th>genres</th>\n",
       "      <th>original_release_date</th>\n",
       "      <th>current_version_release_date</th>\n",
       "      <th>num_lang</th>\n",
       "    </tr>\n",
       "    <tr>\n",
       "      <th>ID</th>\n",
       "      <th></th>\n",
       "      <th></th>\n",
       "      <th></th>\n",
       "      <th></th>\n",
       "      <th></th>\n",
       "      <th></th>\n",
       "      <th></th>\n",
       "      <th></th>\n",
       "      <th></th>\n",
       "      <th></th>\n",
       "      <th></th>\n",
       "      <th></th>\n",
       "      <th></th>\n",
       "    </tr>\n",
       "  </thead>\n",
       "  <tbody>\n",
       "    <tr>\n",
       "      <th>284921427</th>\n",
       "      <td>False</td>\n",
       "      <td>False</td>\n",
       "      <td>False</td>\n",
       "      <td>False</td>\n",
       "      <td>False</td>\n",
       "      <td>False</td>\n",
       "      <td>False</td>\n",
       "      <td>False</td>\n",
       "      <td>False</td>\n",
       "      <td>False</td>\n",
       "      <td>False</td>\n",
       "      <td>False</td>\n",
       "      <td>False</td>\n",
       "    </tr>\n",
       "    <tr>\n",
       "      <th>284926400</th>\n",
       "      <td>False</td>\n",
       "      <td>False</td>\n",
       "      <td>False</td>\n",
       "      <td>False</td>\n",
       "      <td>False</td>\n",
       "      <td>False</td>\n",
       "      <td>False</td>\n",
       "      <td>False</td>\n",
       "      <td>False</td>\n",
       "      <td>False</td>\n",
       "      <td>False</td>\n",
       "      <td>False</td>\n",
       "      <td>False</td>\n",
       "    </tr>\n",
       "    <tr>\n",
       "      <th>284946595</th>\n",
       "      <td>False</td>\n",
       "      <td>False</td>\n",
       "      <td>False</td>\n",
       "      <td>False</td>\n",
       "      <td>False</td>\n",
       "      <td>False</td>\n",
       "      <td>False</td>\n",
       "      <td>False</td>\n",
       "      <td>False</td>\n",
       "      <td>False</td>\n",
       "      <td>False</td>\n",
       "      <td>False</td>\n",
       "      <td>False</td>\n",
       "    </tr>\n",
       "    <tr>\n",
       "      <th>285755462</th>\n",
       "      <td>False</td>\n",
       "      <td>False</td>\n",
       "      <td>False</td>\n",
       "      <td>False</td>\n",
       "      <td>False</td>\n",
       "      <td>False</td>\n",
       "      <td>False</td>\n",
       "      <td>False</td>\n",
       "      <td>False</td>\n",
       "      <td>False</td>\n",
       "      <td>False</td>\n",
       "      <td>False</td>\n",
       "      <td>False</td>\n",
       "    </tr>\n",
       "    <tr>\n",
       "      <th>285831220</th>\n",
       "      <td>False</td>\n",
       "      <td>False</td>\n",
       "      <td>False</td>\n",
       "      <td>False</td>\n",
       "      <td>False</td>\n",
       "      <td>False</td>\n",
       "      <td>False</td>\n",
       "      <td>False</td>\n",
       "      <td>False</td>\n",
       "      <td>False</td>\n",
       "      <td>False</td>\n",
       "      <td>False</td>\n",
       "      <td>False</td>\n",
       "    </tr>\n",
       "    <tr>\n",
       "      <th>...</th>\n",
       "      <td>...</td>\n",
       "      <td>...</td>\n",
       "      <td>...</td>\n",
       "      <td>...</td>\n",
       "      <td>...</td>\n",
       "      <td>...</td>\n",
       "      <td>...</td>\n",
       "      <td>...</td>\n",
       "      <td>...</td>\n",
       "      <td>...</td>\n",
       "      <td>...</td>\n",
       "      <td>...</td>\n",
       "      <td>...</td>\n",
       "    </tr>\n",
       "    <tr>\n",
       "      <th>1474626442</th>\n",
       "      <td>False</td>\n",
       "      <td>True</td>\n",
       "      <td>True</td>\n",
       "      <td>False</td>\n",
       "      <td>False</td>\n",
       "      <td>False</td>\n",
       "      <td>False</td>\n",
       "      <td>False</td>\n",
       "      <td>False</td>\n",
       "      <td>False</td>\n",
       "      <td>False</td>\n",
       "      <td>False</td>\n",
       "      <td>False</td>\n",
       "    </tr>\n",
       "    <tr>\n",
       "      <th>1474919257</th>\n",
       "      <td>False</td>\n",
       "      <td>True</td>\n",
       "      <td>True</td>\n",
       "      <td>False</td>\n",
       "      <td>False</td>\n",
       "      <td>False</td>\n",
       "      <td>False</td>\n",
       "      <td>False</td>\n",
       "      <td>False</td>\n",
       "      <td>False</td>\n",
       "      <td>False</td>\n",
       "      <td>False</td>\n",
       "      <td>False</td>\n",
       "    </tr>\n",
       "    <tr>\n",
       "      <th>1474962324</th>\n",
       "      <td>False</td>\n",
       "      <td>True</td>\n",
       "      <td>True</td>\n",
       "      <td>False</td>\n",
       "      <td>False</td>\n",
       "      <td>False</td>\n",
       "      <td>False</td>\n",
       "      <td>False</td>\n",
       "      <td>False</td>\n",
       "      <td>False</td>\n",
       "      <td>False</td>\n",
       "      <td>False</td>\n",
       "      <td>False</td>\n",
       "    </tr>\n",
       "    <tr>\n",
       "      <th>1474963671</th>\n",
       "      <td>False</td>\n",
       "      <td>True</td>\n",
       "      <td>True</td>\n",
       "      <td>False</td>\n",
       "      <td>False</td>\n",
       "      <td>False</td>\n",
       "      <td>False</td>\n",
       "      <td>False</td>\n",
       "      <td>False</td>\n",
       "      <td>False</td>\n",
       "      <td>False</td>\n",
       "      <td>False</td>\n",
       "      <td>False</td>\n",
       "    </tr>\n",
       "    <tr>\n",
       "      <th>1475076711</th>\n",
       "      <td>False</td>\n",
       "      <td>True</td>\n",
       "      <td>True</td>\n",
       "      <td>False</td>\n",
       "      <td>False</td>\n",
       "      <td>False</td>\n",
       "      <td>False</td>\n",
       "      <td>False</td>\n",
       "      <td>False</td>\n",
       "      <td>False</td>\n",
       "      <td>False</td>\n",
       "      <td>False</td>\n",
       "      <td>False</td>\n",
       "    </tr>\n",
       "  </tbody>\n",
       "</table>\n",
       "<p>17007 rows × 13 columns</p>\n",
       "</div>"
      ],
      "text/plain": [
       "             name  average_user_rating  user_rating_count  price  developer  \\\n",
       "ID                                                                            \n",
       "284921427   False                False              False  False      False   \n",
       "284926400   False                False              False  False      False   \n",
       "284946595   False                False              False  False      False   \n",
       "285755462   False                False              False  False      False   \n",
       "285831220   False                False              False  False      False   \n",
       "...           ...                  ...                ...    ...        ...   \n",
       "1474626442  False                 True               True  False      False   \n",
       "1474919257  False                 True               True  False      False   \n",
       "1474962324  False                 True               True  False      False   \n",
       "1474963671  False                 True               True  False      False   \n",
       "1475076711  False                 True               True  False      False   \n",
       "\n",
       "            age_rating  languages   size  primary_genre  genres  \\\n",
       "ID                                                                \n",
       "284921427        False      False  False          False   False   \n",
       "284926400        False      False  False          False   False   \n",
       "284946595        False      False  False          False   False   \n",
       "285755462        False      False  False          False   False   \n",
       "285831220        False      False  False          False   False   \n",
       "...                ...        ...    ...            ...     ...   \n",
       "1474626442       False      False  False          False   False   \n",
       "1474919257       False      False  False          False   False   \n",
       "1474962324       False      False  False          False   False   \n",
       "1474963671       False      False  False          False   False   \n",
       "1475076711       False      False  False          False   False   \n",
       "\n",
       "            original_release_date  current_version_release_date  num_lang  \n",
       "ID                                                                         \n",
       "284921427                   False                         False     False  \n",
       "284926400                   False                         False     False  \n",
       "284946595                   False                         False     False  \n",
       "285755462                   False                         False     False  \n",
       "285831220                   False                         False     False  \n",
       "...                           ...                           ...       ...  \n",
       "1474626442                  False                         False     False  \n",
       "1474919257                  False                         False     False  \n",
       "1474962324                  False                         False     False  \n",
       "1474963671                  False                         False     False  \n",
       "1475076711                  False                         False     False  \n",
       "\n",
       "[17007 rows x 13 columns]"
      ]
     },
     "execution_count": 46,
     "metadata": {},
     "output_type": "execute_result"
    }
   ],
   "source": [
    "df.isnull()"
   ]
  },
  {
   "cell_type": "code",
   "execution_count": 47,
   "metadata": {},
   "outputs": [
    {
     "data": {
      "text/plain": [
       "name                               0\n",
       "average_user_rating             9446\n",
       "user_rating_count               9446\n",
       "price                             24\n",
       "developer                          0\n",
       "age_rating                         0\n",
       "languages                         60\n",
       "size                               1\n",
       "primary_genre                      0\n",
       "genres                             0\n",
       "original_release_date              0\n",
       "current_version_release_date       0\n",
       "num_lang                          60\n",
       "dtype: int64"
      ]
     },
     "execution_count": 47,
     "metadata": {},
     "output_type": "execute_result"
    }
   ],
   "source": [
    "df.isnull().sum()"
   ]
  },
  {
   "cell_type": "code",
   "execution_count": 48,
   "metadata": {},
   "outputs": [
    {
     "data": {
      "text/plain": [
       "name                            0\n",
       "average_user_rating             0\n",
       "user_rating_count               0\n",
       "price                           0\n",
       "developer                       0\n",
       "age_rating                      0\n",
       "languages                       0\n",
       "size                            0\n",
       "primary_genre                   0\n",
       "genres                          0\n",
       "original_release_date           0\n",
       "current_version_release_date    0\n",
       "num_lang                        0\n",
       "dtype: int64"
      ]
     },
     "execution_count": 48,
     "metadata": {},
     "output_type": "execute_result"
    }
   ],
   "source": [
    "df = df.dropna()\n",
    "df.isnull().sum()"
   ]
  },
  {
   "cell_type": "code",
   "execution_count": 49,
   "metadata": {},
   "outputs": [
    {
     "name": "stdout",
     "output_type": "stream",
     "text": [
      "<class 'pandas.core.frame.DataFrame'>\n",
      "Int64Index: 7537 entries, 284921427 to 1474461379\n",
      "Data columns (total 13 columns):\n",
      " #   Column                        Non-Null Count  Dtype  \n",
      "---  ------                        --------------  -----  \n",
      " 0   name                          7537 non-null   object \n",
      " 1   average_user_rating           7537 non-null   float64\n",
      " 2   user_rating_count             7537 non-null   float64\n",
      " 3   price                         7537 non-null   float64\n",
      " 4   developer                     7537 non-null   object \n",
      " 5   age_rating                    7537 non-null   object \n",
      " 6   languages                     7537 non-null   object \n",
      " 7   size                          7537 non-null   float64\n",
      " 8   primary_genre                 7537 non-null   object \n",
      " 9   genres                        7537 non-null   object \n",
      " 10  original_release_date         7537 non-null   object \n",
      " 11  current_version_release_date  7537 non-null   object \n",
      " 12  num_lang                      7537 non-null   float64\n",
      "dtypes: float64(5), object(8)\n",
      "memory usage: 824.4+ KB\n"
     ]
    }
   ],
   "source": [
    "df.info()"
   ]
  },
  {
   "cell_type": "code",
   "execution_count": null,
   "metadata": {},
   "outputs": [],
   "source": []
  }
 ],
 "metadata": {
  "kernelspec": {
   "display_name": "Python 3",
   "language": "python",
   "name": "python3"
  },
  "language_info": {
   "codemirror_mode": {
    "name": "ipython",
    "version": 3
   },
   "file_extension": ".py",
   "mimetype": "text/x-python",
   "name": "python",
   "nbconvert_exporter": "python",
   "pygments_lexer": "ipython3",
   "version": "3.11.0 (main, Oct 24 2022, 18:26:48) [MSC v.1933 64 bit (AMD64)]"
  },
  "orig_nbformat": 4,
  "vscode": {
   "interpreter": {
    "hash": "3f8b6ed4a49bac3e03591468bfd89e920b32172a39df745a620198442fe4ce17"
   }
  }
 },
 "nbformat": 4,
 "nbformat_minor": 2
}
